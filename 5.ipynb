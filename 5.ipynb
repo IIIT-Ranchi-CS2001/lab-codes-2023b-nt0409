{
 "cells": [
  {
   "cell_type": "code",
   "execution_count": 3,
   "metadata": {},
   "outputs": [
    {
     "name": "stdout",
     "output_type": "stream",
     "text": [
      "5.196152422706632\n"
     ]
    }
   ],
   "source": [
    "from math import sqrt\n",
    "t1=tuple(int(x) for x in input(\"Enter forst cords(x1,y1,z1)--> \").split())\n",
    "t2=tuple(int(x) for x in input(\"Enter forst cords(x2,y2,z2)--> \").split())\n",
    "sum_of_squares=0\n",
    "for i in range(3):\n",
    "    sum_of_squares+=(t1[i]-t2[i])**2\n",
    "distance=sqrt(sum_of_squares)\n",
    "print(distance)"
   ]
  },
  {
   "cell_type": "code",
   "execution_count": 8,
   "metadata": {},
   "outputs": [
    {
     "name": "stdout",
     "output_type": "stream",
     "text": [
      "[('Ashu', 69, 89), ('Ankur', 10, 90), ('Sutanu', 2, 91), ('Vaibhav', 64, 99)]\n"
     ]
    }
   ],
   "source": [
    "names = [\"Ankur\",\"Sutanu\",\"Vaibhav\",\"Ashu\"]\n",
    "roll_no = [10,2,64,69]\n",
    "marks = [90 , 91 , 99 , 89]\n",
    "l1 = [tuple(x) for x in zip(names,roll_no,marks)]\n",
    "l1.sort(key=lambda x:x[2])\n",
    "print(l1)"
   ]
  },
  {
   "cell_type": "code",
   "execution_count": 11,
   "metadata": {},
   "outputs": [
    {
     "name": "stdout",
     "output_type": "stream",
     "text": [
      "[('Ashu', 69, 89), ('Ankur', 10, 90), ('Sutanu', 2, 91), ('Vaibhav', 64, 99)]\n"
     ]
    }
   ],
   "source": [
    "l1 = []\n",
    "for i in range(len(names)):\n",
    "    l1.append((names[i],roll_no[i],marks[i]))\n",
    "for i in range(len(l1)):\n",
    "    for j in range(0, len(l1)-i-1):\n",
    "        if(l1[j][2] > l1[j+1][2]):\n",
    "            l1[j],l1[j+1] = l1[j+1],l1[j]\n",
    "print(l1)"
   ]
  },
  {
   "cell_type": "code",
   "execution_count": null,
   "metadata": {},
   "outputs": [],
   "source": [
    "s = input(\"enter string\").lower()\n",
    "dic = {}\n",
    "for i in s:\n",
    "    dic[i]= dic.get(i, 0) + 1\n",
    "\n",
    "print(dic)"
   ]
  },
  {
   "cell_type": "code",
   "execution_count": null,
   "metadata": {},
   "outputs": [],
   "source": [
    "stu_data = {}\n",
    "for i in range(5):\n",
    "    name = input(\"Enter name: \")\n",
    "    marks = float(input(f\"Enter {name}'s marks (in percentage): \"))\n",
    "    stu_data[name] = marks\n",
    "high_performance  = {name:marks for name, marks in stu_data.items() if marks >=85}\n",
    "avg_performance  = {name:marks for name, marks in stu_data.items() if marks >=60 and  marks<85}\n",
    "low_performance  = { name:marks for name, marks in stu_data.items() if marks <60}\n",
    "\n",
    "print(f\"high performers:({len(high_performance)}), {list(high_performance.keys())}\") \n",
    "print(f\"average performers:({len(avg_performance)}), {list(avg_performance.keys())}\") \n",
    "print(f\"low performers:({len(low_performance)}), {list(low_performance.keys())}\") \n",
    "n =   max(high_performance , key = high_performance.get) \n",
    "print(f\"highest mark by {n} is { high_performance[n]}\")   "
   ]
  },
  {
   "cell_type": "code",
   "execution_count": null,
   "metadata": {},
   "outputs": [],
   "source": [
    "salaries = {}\n",
    "for _ in range(5):\n",
    "    name = input(\"Enter name: \")\n",
    "    salary = float(input(f\"Enter {name}'s salary: \"))\n",
    "    salaries[name] = salary\n",
    "l1=[x for x in salaries.keys()]\n",
    "for i in range(5):\n",
    "    for j in range(5-i-1):\n",
    "        if salaries[l1[j+1]]>salaries[l1[j]]:\n",
    "            l1[j],l1[j+1]=l1[j+1],l1[j]\n",
    "for i in l1:\n",
    "    print(f\"Name : {i}   Salary : Rs. {salaries[i]}\")\n",
    "highest_salary_employee = l1[0]\n",
    "print(f\"\\nEmployee with the highest salary: {highest_salary_employee}\")"
   ]
  }
 ],
 "metadata": {
  "kernelspec": {
   "display_name": "Python 3",
   "language": "python",
   "name": "python3"
  },
  "language_info": {
   "codemirror_mode": {
    "name": "ipython",
    "version": 3
   },
   "file_extension": ".py",
   "mimetype": "text/x-python",
   "name": "python",
   "nbconvert_exporter": "python",
   "pygments_lexer": "ipython3",
   "version": "3.12.7"
  }
 },
 "nbformat": 4,
 "nbformat_minor": 2
}
