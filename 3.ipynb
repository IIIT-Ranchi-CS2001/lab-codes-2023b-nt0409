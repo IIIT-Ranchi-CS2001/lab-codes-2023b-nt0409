{
 "cells": [
  {
   "cell_type": "code",
   "execution_count": 2,
   "metadata": {},
   "outputs": [
    {
     "name": "stdout",
     "output_type": "stream",
     "text": [
      "Number   Square\n",
      "1          1\n",
      "2          4\n",
      "3          9\n",
      "4          16\n",
      "5          25\n",
      "6          36\n",
      "7          49\n",
      "8          64\n"
     ]
    }
   ],
   "source": [
    "#Write a python script to find the squares of first n natural numbers. Display both the number and the square as shown below. Use while loop\n",
    "\n",
    "print(\"Number   Square\")\n",
    "n=int(input(\"Enter a number =>\"))\n",
    "i=1\n",
    "while(i<=n):\n",
    "    print(f\"{i}          {i*i}\")\n",
    "    i+=1\n"
   ]
  },
  {
   "cell_type": "code",
   "execution_count": 17,
   "metadata": {},
   "outputs": [
    {
     "name": "stdout",
     "output_type": "stream",
     "text": [
      " Number -> 169 and Sum of digits -> 16\n"
     ]
    }
   ],
   "source": [
    "#Write a python script to find the sum of the digits of the given number using a while loop. Display the number and the sum.\n",
    "num=int(input(\"Enter a number\"))\n",
    "num2=num\n",
    "res=0\n",
    "while(num):\n",
    "    res+=(num%10)\n",
    "    num//=10\n",
    "print(f\" Number -> {num2} and Sum of digits -> {res}\")"
   ]
  },
  {
   "cell_type": "code",
   "execution_count": 29,
   "metadata": {},
   "outputs": [
    {
     "name": "stdout",
     "output_type": "stream",
     "text": [
      "0\n",
      "1\n",
      "1\n",
      "2\n",
      "3\n",
      "5\n",
      "8\n",
      "13\n",
      "21\n"
     ]
    }
   ],
   "source": [
    "#Write a python script to print the first n terms of the Fibonacci series using while loop\n",
    "n1=int(input(\"Enter a number =>\"))\n",
    "a=0 \n",
    "b=1\n",
    "i=1\n",
    "c=0\n",
    "while(i<=n1):\n",
    "    a=b\n",
    "    b=c\n",
    "    print(c)\n",
    "    c=a+b\n",
    "    i+=1\n",
    "    "
   ]
  },
  {
   "cell_type": "code",
   "execution_count": 30,
   "metadata": {},
   "outputs": [
    {
     "name": "stdout",
     "output_type": "stream",
     "text": [
      "12 x 1 = 12\n",
      "12 x 2 = 24\n",
      "12 x 3 = 36\n",
      "12 x 4 = 48\n",
      "12 x 5 = 60\n",
      "12 x 6 = 72\n",
      "12 x 7 = 84\n",
      "12 x 8 = 96\n",
      "12 x 9 = 108\n",
      "12 x 10 = 120\n"
     ]
    }
   ],
   "source": [
    "#Write a python script to print the multiplication table of a given number up to the specified limit using a for loop.\n",
    "number=int(input(\"Enter the number\"))\n",
    "limit=int(input(\"Enter a limit -> \"))\n",
    "for i in range(1,limit+1):\n",
    "    print(f\"{number} x {i} = {number * i}\")\n",
    "   "
   ]
  },
  {
   "cell_type": "code",
   "execution_count": 31,
   "metadata": {},
   "outputs": [
    {
     "name": "stdout",
     "output_type": "stream",
     "text": [
      "True\n"
     ]
    }
   ],
   "source": [
    "#Write a python script to check whether all the characters present in a string are alphanumeric (uppercase letters, lowercase letters or digits) using for. Print True if all characters are alphanumeric. Otherwise print False.\n",
    "\n",
    "str=input(\"Enter a string -> \")\n",
    "flag=True\n",
    "for i in str:\n",
    "    if(i.isalnum()):\n",
    "        continue\n",
    "    else :\n",
    "        flag=False\n",
    "        break\n",
    "\n",
    "print(flag)"
   ]
  },
  {
   "cell_type": "code",
   "execution_count": 16,
   "metadata": {},
   "outputs": [
    {
     "name": "stdout",
     "output_type": "stream",
     "text": [
      "Occurrences of o in facebook is 2\n"
     ]
    }
   ],
   "source": [
    "#Write a python script to find the number of occurrences of a particular character present in the given string using a loop. (Don’t use string methods).\n",
    "str2=input(\"Enter a string -> \")\n",
    "x=input(\"Enter a character\")\n",
    "cnt=0\n",
    "for ch in str2:\n",
    "    if(ch==x):\n",
    "        cnt+=1\n",
    "print(f\"Occurrences of {x} in {str2} is {cnt}\")"
   ]
  }
 ],
 "metadata": {
  "kernelspec": {
   "display_name": "Python 3",
   "language": "python",
   "name": "python3"
  },
  "language_info": {
   "codemirror_mode": {
    "name": "ipython",
    "version": 3
   },
   "file_extension": ".py",
   "mimetype": "text/x-python",
   "name": "python",
   "nbconvert_exporter": "python",
   "pygments_lexer": "ipython3",
   "version": "3.12.5"
  }
 },
 "nbformat": 4,
 "nbformat_minor": 2
}
