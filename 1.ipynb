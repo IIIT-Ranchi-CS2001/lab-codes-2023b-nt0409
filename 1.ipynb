{
 "cells": [
  {
   "cell_type": "code",
   "execution_count": 3,
   "metadata": {},
   "outputs": [
    {
     "name": "stdout",
     "output_type": "stream",
     "text": [
      "Addition:  7\n",
      "Product:  10\n",
      "Difference:  3\n",
      "Quotient:  0\n",
      "Remainder:  2\n",
      "Fraction Quotient:  0.4\n"
     ]
    }
   ],
   "source": [
    "a=int(input(\"Enter a: \"))\n",
    "b=int(input(\"Enter b: \"))\n",
    "print(\"Addition: \",a+b)\n",
    "print(\"Product: \",a*b)\n",
    "print(\"Difference: \",abs(a-b))\n",
    "print(\"Quotient: \",int(a/b))\n",
    "print(\"Remainder: \",a%b)\n",
    "print(\"Fraction Quotient: \",a/b)"
   ]
  },
  {
   "cell_type": "code",
   "execution_count": 1,
   "metadata": {},
   "outputs": [
    {
     "ename": "SyntaxError",
     "evalue": "invalid syntax (4069894943.py, line 1)",
     "output_type": "error",
     "traceback": [
      "\u001b[1;36m  Cell \u001b[1;32mIn[1], line 1\u001b[1;36m\u001b[0m\n\u001b[1;33m    L1 = ['1', '2', '3', '4'] L2 = ['a', 'b', 'c', 'd']\u001b[0m\n\u001b[1;37m                              ^\u001b[0m\n\u001b[1;31mSyntaxError\u001b[0m\u001b[1;31m:\u001b[0m invalid syntax\n"
     ]
    }
   ],
   "source": [
    "L1 = ['1', '2', '3', '4'] L2 = ['a', 'b', 'c', 'd']\n",
    "newL = [ ]\n",
    "for i in range(len(L1)):\n",
    "    newL[i] = L1[i] + ':' + L2(i)\n",
    "\n",
    "print(newL)"
   ]
  },
  {
   "cell_type": "code",
   "execution_count": 13,
   "metadata": {},
   "outputs": [
    {
     "name": "stdout",
     "output_type": "stream",
     "text": [
      "Perimeter:  12\n",
      "Area:  6.0\n",
      "Angle a:  36.86989764584401\n",
      "Angle b:  53.13010235415599\n",
      "Angle c:  90.0\n"
     ]
    }
   ],
   "source": [
    "#Experiment 2\n",
    "import math\n",
    "a=int(input(\"Enter a: \"))\n",
    "b=int(input(\"Enter b: \"))\n",
    "c=int(input(\"Enter c: \"))\n",
    "print(\"Perimeter: \",a+b+c)\n",
    "s=(a+b+c)/2\n",
    "area=math.sqrt(s*(s-a)*(s-b)*(s-c))\n",
    "print(\"Area: \",area)\n",
    "angleA=math.degrees(math.acos((b*b+c*c-a*a)/(2*b*c)))\n",
    "angleB=math.degrees(math.acos((a*a+c*c-b*b)/(2*a*c)))\n",
    "angleC=math.degrees(math.acos((b*b+a*a-c*c)/(2*b*a)))\n",
    "print(\"Angle a: \",angleA)\n",
    "print(\"Angle b: \",angleB)\n",
    "print(\"Angle c: \",angleC)"
   ]
  },
  {
   "cell_type": "code",
   "execution_count": 1,
   "metadata": {},
   "outputs": [
    {
     "ename": "ValueError",
     "evalue": "invalid literal for int() with base 10: ''",
     "output_type": "error",
     "traceback": [
      "\u001b[1;31m---------------------------------------------------------------------------\u001b[0m",
      "\u001b[1;31mValueError\u001b[0m                                Traceback (most recent call last)",
      "Cell \u001b[1;32mIn[1], line 2\u001b[0m\n\u001b[0;32m      1\u001b[0m \u001b[38;5;28;01mimport\u001b[39;00m \u001b[38;5;21;01mmath\u001b[39;00m\n\u001b[1;32m----> 2\u001b[0m c\u001b[38;5;241m=\u001b[39m\u001b[38;5;28;43mint\u001b[39;49m\u001b[43m(\u001b[49m\u001b[38;5;28;43minput\u001b[39;49m\u001b[43m(\u001b[49m\u001b[38;5;124;43m\"\u001b[39;49m\u001b[38;5;124;43mEnter temperature in celcius: \u001b[39;49m\u001b[38;5;124;43m\"\u001b[39;49m\u001b[43m)\u001b[49m\u001b[43m)\u001b[49m\n\u001b[0;32m      3\u001b[0m f\u001b[38;5;241m=\u001b[39m\u001b[38;5;241m1.8\u001b[39m\u001b[38;5;241m*\u001b[39mc\u001b[38;5;241m+\u001b[39m\u001b[38;5;241m32\u001b[39m\n\u001b[0;32m      4\u001b[0m \u001b[38;5;28mprint\u001b[39m(\u001b[38;5;124m\"\u001b[39m\u001b[38;5;124mTemperature in Farenhite: \u001b[39m\u001b[38;5;124m\"\u001b[39m,f)\n",
      "\u001b[1;31mValueError\u001b[0m: invalid literal for int() with base 10: ''"
     ]
    }
   ],
   "source": [
    "import math\n",
    "c=int(input(\"Enter temperature in celcius: \"))\n",
    "f=1.8*c+32\n",
    "print(\"Temperature in Farenhite: \",f)"
   ]
  }
 ],
 "metadata": {
  "kernelspec": {
   "display_name": "Python 3",
   "language": "python",
   "name": "python3"
  },
  "language_info": {
   "codemirror_mode": {
    "name": "ipython",
    "version": 3
   },
   "file_extension": ".py",
   "mimetype": "text/x-python",
   "name": "python",
   "nbconvert_exporter": "python",
   "pygments_lexer": "ipython3",
   "version": "3.12.7"
  }
 },
 "nbformat": 4,
 "nbformat_minor": 2
}
