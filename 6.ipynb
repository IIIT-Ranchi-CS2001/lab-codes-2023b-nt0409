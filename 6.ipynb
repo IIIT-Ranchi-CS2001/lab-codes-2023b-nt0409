{
 "cells": [
  {
   "cell_type": "markdown",
   "metadata": {},
   "source": [
    "**Find the sum of n terms of exponential series-\n",
    "cos(x) = 1 - (x^2)/2! + (x^4)/4! .....**"
   ]
  },
  {
   "cell_type": "code",
   "execution_count": 1,
   "metadata": {},
   "outputs": [
    {
     "name": "stdout",
     "output_type": "stream",
     "text": [
      "-0.3968253968253972\n"
     ]
    }
   ],
   "source": [
    "from math import factorial as fact\n",
    "\n",
    "n=int(input(\"Enter the value of n: \"))\n",
    "x=int(input(\"Enter the value of x: \"))\n",
    "\n",
    "def cos(x,y,z,sign):\n",
    "    if(z==0):\n",
    "        return 0\n",
    "    return sign*(x**y)/fact(y) + cos(x,y+2,z-1,-1*sign)\n",
    "ans = cos(x,0,n,1)\n",
    "print(ans)\t\n"
   ]
  },
  {
   "cell_type": "code",
   "execution_count": 2,
   "metadata": {},
   "outputs": [
    {
     "name": "stdout",
     "output_type": "stream",
     "text": [
      "Students participating in both events are: {'patlu'}\n",
      "Students participating in one event are: {'ben', 'bheem', 'jon', 'jerry'}\n",
      "Students absent are: {'tom'}\n"
     ]
    }
   ],
   "source": [
    "students = {\"bheem\" , \"tom\" , \"jerry\" , \"motu\" , \"patlu\" , \"ben\" , \"jon\"}\n",
    "exibition_event = {\"bheem\" , \"jon\" , \"patlu\"}\n",
    "sport_event = {\"jerry\" , \"ben\", \"patlu\"}\n",
    "present  = {\"motu\"}\n",
    "both_event = exibition_event&sport_event\n",
    "one_event = exibition_event^sport_event\n",
    "absent = students-(exibition_event|sport_event|present)\n",
    "print(\"Students participating in both events are:\",both_event)\n",
    "print(\"Students participating in one event are:\",one_event)\n",
    "print(\"Students absent are:\",absent)"
   ]
  }
 ],
 "metadata": {
  "kernelspec": {
   "display_name": "Python 3",
   "language": "python",
   "name": "python3"
  },
  "language_info": {
   "codemirror_mode": {
    "name": "ipython",
    "version": 3
   },
   "file_extension": ".py",
   "mimetype": "text/x-python",
   "name": "python",
   "nbconvert_exporter": "python",
   "pygments_lexer": "ipython3",
   "version": "3.12.7"
  }
 },
 "nbformat": 4,
 "nbformat_minor": 2
}
