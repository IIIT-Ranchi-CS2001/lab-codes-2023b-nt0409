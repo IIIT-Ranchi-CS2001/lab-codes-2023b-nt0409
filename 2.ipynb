{
 "cells": [
  {
   "cell_type": "code",
   "execution_count": 1,
   "metadata": {},
   "outputs": [
    {
     "name": "stdout",
     "output_type": "stream",
     "text": [
      "mAHA bHARAT\n",
      "Bharat\n",
      "BharatBharatBharat\n",
      "Mera Bharat\n",
      "Mera Bharat Mahan\n"
     ]
    }
   ],
   "source": [
    "s1 = \"Maha Bharat\"\n",
    "print(s1.swapcase())\n",
    "print(s1[5 : ])\n",
    "print(s1[5 : ]*3)\n",
    "print(\"Mera \" + s1[5 : ])\n",
    "print(\"Mera \" + s1[5 : ] + \" Mahan\")"
   ]
  },
  {
   "cell_type": "code",
   "execution_count": 17,
   "metadata": {},
   "outputs": [
    {
     "name": "stdout",
     "output_type": "stream",
     "text": [
      "17\n",
      "14\n",
      "3\n",
      "Ta Ta Black Sheep\n"
     ]
    }
   ],
   "source": [
    "s=\"Ba Ba Black Sheep\"\n",
    "print(len(s))\n",
    "print(s.find('e'))\n",
    "print(s.count('a'))\n",
    "print(s.replace('Ba','Ta'))"
   ]
  },
  {
   "cell_type": "code",
   "execution_count": 20,
   "metadata": {},
   "outputs": [
    {
     "name": "stdout",
     "output_type": "stream",
     "text": [
      "YES\n"
     ]
    }
   ],
   "source": [
    "a=input(\"Enter any string\")\n",
    "s = a[::-1]\n",
    "if(a==s):\n",
    "  print(\"YES\")\n",
    "else:\n",
    "  print(\"NO\")"
   ]
  },
  {
   "cell_type": "code",
   "execution_count": null,
   "metadata": {},
   "outputs": [
    {
     "name": "stdout",
     "output_type": "stream",
     "text": [
      "Name:  Vaibhav\n",
      "Roll no. 54\n",
      "Marks:  95\n",
      "Grade point: 10\n",
      "Remarks: Outstanding\n"
     ]
    }
   ],
   "source": [
    "name = input(\"Enter name: \")\n",
    "roll = input(\"Enter roll no. :  \")\n",
    "marks = int(input(\"Enter marks scored\"))\n",
    "print(\"Name: \",name)\n",
    "print(\"Roll no.\", roll)\n",
    "print(\"Marks: \",marks)\n",
    "if(marks>=90):\n",
    "  print(\"Grade point: 10\")\n",
    "  print(\"Remarks: Outstanding\")\n",
    "elif(80<=marks<90):\n",
    "  print(\"Grade point: 9\")\n",
    "  print(\"Remarks: Very good\")\n",
    "elif(70<=marks<80):\n",
    "  print(\"Grade point: 8\")\n",
    "  print(\"Remarks: good\")\n",
    "elif(60<=marks<70):\n",
    "  print(\"Grade point: 7\")\n",
    "  print(\"Remarks: Average\")\n",
    "elif(50<=marks<60):\n",
    "  print(\"Grade point: 6\")\n",
    "  print(\"Remarks: Pass\")\n",
    "elif(marks<50):\n",
    "  print(\"Grade point: 0\")\n",
    "  print(\"Remarks: Fail\")\n",
    "else:\n",
    "  print(\"Wrong input\")\n",
    "  "
   ]
  },
  {
   "cell_type": "code",
   "execution_count": 5,
   "metadata": {},
   "outputs": [
    {
     "name": "stdout",
     "output_type": "stream",
     "text": [
      "First root:  3.0\n",
      "Second root:  2.0\n"
     ]
    }
   ],
   "source": [
    "from math import sqrt\n",
    "a=int(input(\"Enter a: \"))\n",
    "b=int(input(\"Enter b: \"))\n",
    "c=int(input(\"Enter c: \"))\n",
    "d = b*b - 4*a*c\n",
    "if(d==0):\n",
    "  print(\"Both roots are: \", ((-b)/(2*a)))\n",
    "elif(d>0):\n",
    "  print(\"First root: \",((-b)+sqrt(d))/(2*a))\n",
    "  print(\"Second root: \",((-b)-sqrt(d))/(2*a))\n",
    "elif(d<0):\n",
    "  d=abs(d)\n",
    "  print(\"Roots are imaginary\")\n",
    "  print(\"Real part 1:\", (-b)/(2*a))\n",
    "  print(\"Imaginary part 1:\", (sqrt(d))/(2*a))\n",
    "  print(\"Real part 2:\", (-b)/(2*a))\n",
    "  print(\"Imaginary part 2:\", (-sqrt(d))/(2*a))"
   ]
  }
 ],
 "metadata": {
  "kernelspec": {
   "display_name": "Python 3",
   "language": "python",
   "name": "python3"
  },
  "language_info": {
   "codemirror_mode": {
    "name": "ipython",
    "version": 3
   },
   "file_extension": ".py",
   "mimetype": "text/x-python",
   "name": "python",
   "nbconvert_exporter": "python",
   "pygments_lexer": "ipython3",
   "version": "3.12.6"
  }
 },
 "nbformat": 4,
 "nbformat_minor": 2
}
